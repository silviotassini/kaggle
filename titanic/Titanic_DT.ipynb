{
 "cells": [
  {
   "cell_type": "code",
   "execution_count": 2,
   "id": "1dc21264",
   "metadata": {},
   "outputs": [],
   "source": [
    "import numpy as np\n",
    "import pandas as pd\n",
    "from IPython.display import display # Allows the use of display() for DataFrames\n",
    "\n",
    "# Pretty display for notebooks\n",
    "%matplotlib inline"
   ]
  },
  {
   "cell_type": "code",
   "execution_count": 13,
   "id": "959accea",
   "metadata": {},
   "outputs": [],
   "source": [
    "# Load the dataset\n",
    "in_file = './titanic/train.csv'\n",
    "full_data = pd.read_csv(in_file)\n",
    "\n",
    "test_file = './titanic/test.csv'\n",
    "test_data = pd.read_csv(test_file)\n",
    "\n",
    "# Print the first few entries of the RMS Titanic data\n",
    "full_data.head()\n",
    "\n",
    "# Store the 'Survived' feature in a new variable and remove it from the dataset\n",
    "labels = full_data['Survived']\n",
    "data = full_data.drop('Survived', axis = 1)"
   ]
  },
  {
   "cell_type": "code",
   "execution_count": 9,
   "id": "fa4ef634",
   "metadata": {},
   "outputs": [
    {
     "name": "stdout",
     "output_type": "stream",
     "text": [
      "Predictions have an accuracy of 60.00%.\n"
     ]
    }
   ],
   "source": [
    "def accuracy_score(truth, pred):\n",
    "    \"\"\" Returns accuracy score for input truth and predictions. \"\"\"\n",
    "    \n",
    "    # Ensure that the number of predictions matches number of outcomes\n",
    "    if len(truth) == len(pred): \n",
    "        \n",
    "        # Calculate and return the accuracy as a percent\n",
    "        return \"Predictions have an accuracy of {:.2f}%.\".format((truth == pred).mean()*100)\n",
    "    \n",
    "    else:\n",
    "        return \"Number of predictions does not match number of outcomes!\"\n",
    "    \n",
    "# Test the 'accuracy_score' function\n",
    "predictions = pd.Series(np.ones(5, dtype = int))\n",
    "print(accuracy_score(outcomes[:5], predictions))"
   ]
  },
  {
   "cell_type": "code",
   "execution_count": 10,
   "id": "f945e0ec",
   "metadata": {},
   "outputs": [],
   "source": [
    "def predictions_3(data):\n",
    "        \n",
    "    predictions = []    \n",
    "    for _, passenger in data.iterrows():\n",
    "        \n",
    "        cias  = passenger['SibSp'] + passenger['Parch']\n",
    "        idade = passenger['Age']\n",
    "        portao= passenger['Embarked']\n",
    "        pagou = passenger['Fare']\n",
    "        classe= passenger['Pclass']\n",
    "        if(passenger['Sex'] == \"male\"):                \n",
    "                if(idade < 10):\n",
    "                    if(portao == \"Q\"):\n",
    "                        predictions.append(0)\n",
    "                    elif(portao == \"S\"):\n",
    "                        if(classe == 3):\n",
    "                            predictions.append(0)\n",
    "                        else:\n",
    "                            predictions.append(1)\n",
    "                    else:\n",
    "                        predictions.append(1)                    \n",
    "                else:                    \n",
    "                    predictions.append(0)\n",
    "        else:\n",
    "            if(portao == \"S\" and classe == 3 and pagou > 40):\n",
    "                predictions.append(0)\n",
    "            else:\n",
    "                predictions.append(1)                                      \n",
    "    \n",
    "    # Return our predictions\n",
    "    return pd.Series(predictions)"
   ]
  },
  {
   "cell_type": "code",
   "execution_count": 11,
   "id": "94bc08f3",
   "metadata": {},
   "outputs": [
    {
     "name": "stdout",
     "output_type": "stream",
     "text": [
      "Predictions have an accuracy of 80.58%.\n"
     ]
    }
   ],
   "source": [
    "# Make the predictions\n",
    "predictions = predictions_3(data)\n",
    "\n",
    "print(accuracy_score(outcomes, predictions))"
   ]
  },
  {
   "cell_type": "code",
   "execution_count": 14,
   "id": "5f39c514",
   "metadata": {},
   "outputs": [],
   "source": [
    "predictions = predictions_3(test_data)\n",
    "\n",
    "output = pd.DataFrame({'PassengerId': test_data.PassengerId, 'Survived': predictions})\n",
    "output.to_csv('my_submission.csv', index=False)"
   ]
  },
  {
   "cell_type": "code",
   "execution_count": null,
   "id": "714f4cd5",
   "metadata": {},
   "outputs": [],
   "source": []
  },
  {
   "cell_type": "code",
   "execution_count": null,
   "id": "2f0f1439",
   "metadata": {},
   "outputs": [],
   "source": []
  }
 ],
 "metadata": {
  "kernelspec": {
   "display_name": "Python 3",
   "language": "python",
   "name": "python3"
  },
  "language_info": {
   "codemirror_mode": {
    "name": "ipython",
    "version": 3
   },
   "file_extension": ".py",
   "mimetype": "text/x-python",
   "name": "python",
   "nbconvert_exporter": "python",
   "pygments_lexer": "ipython3",
   "version": "3.8.8"
  }
 },
 "nbformat": 4,
 "nbformat_minor": 5
}
